{
 "cells": [
  {
   "cell_type": "code",
   "execution_count": 43,
   "metadata": {},
   "outputs": [],
   "source": [
    "\"\"\"\n",
    "Testing out the n-armed bandit test bed. Final approach inspired by solutions produced in\n",
    "https://github.com/ShangtongZhang/reinforcement-learning-an-introduction\n",
    "\n",
    "\"\"\"\n",
    "\n",
    "import math\n",
    "import numpy as np\n",
    "import matplotlib.pyplot as plt\n",
    "import random\n",
    "\n",
    "\n",
    "class Bandit:\n",
    "    def __init__(self, n=10, eps=.1, isTemp = False, sampleAvg = True, const = False, constVal = 0.):\n",
    "        self.n = n\n",
    "        self.time = 0\n",
    "        self.eps = eps\n",
    "        self.isTemp = isTemp\n",
    "        self.sampleAvg = sampleAvg\n",
    "        self.const = const\n",
    "        self.constVal = constVal\n",
    "        self.qTrue = []\n",
    "        self.qEst = np.zeros(self.n)\n",
    "        \n",
    "        self.moveCount = []\n",
    "        \n",
    "        for i in range(0, n):\n",
    "            self.qTrue.append(np.random.randn())\n",
    "            self.qEst[i] = 0.\n",
    "            self.moveCount.append(0)\n",
    "\n",
    "\n",
    "    def getAction(self):\n",
    "        prob = np.random.uniform(high=1, low=0, size=1)\n",
    "        if not self.isTemp:\n",
    "            if prob > self.eps:\n",
    "                return np.argmax(self.qEst)\n",
    "            indices = np.arange(self.n)\n",
    "            np.random.shuffle(indices)\n",
    "            return indices[0]\n",
    "        else:\n",
    "            probEst = []\n",
    "            for i in range(0, self.n):\n",
    "                probEst.append(np.exp(self.qEst[i]/self.eps))\n",
    "            probEst /= sum(probEst)\n",
    "            eps = 0\n",
    "            for i in range(0, self.n):\n",
    "                eps += probEst[i]\n",
    "                if prob < eps:\n",
    "                    return i\n",
    "\n",
    "\n",
    "    def takeAction(self, At):\n",
    "        Rt = self.qTrue[At] + np.random.randn()\n",
    "        self.time += 1\n",
    "        #Impose a random walk on the true reward values every 3 steps\n",
    "        if self.time % 3 == 0:\n",
    "            self.qTrue[At] + np.random.randn()\n",
    "            \n",
    "        self.moveCount[At] += 1\n",
    "        \n",
    "        if self.sampleAvg:\n",
    "            self.qEst[At] += 1/(self.moveCount[At]) * (Rt - self.qEst[At])\n",
    "        elif self.const:\n",
    "            self.qEst[At] += self.constVal * (Rt - self.qEst[At])\n",
    "        return Rt\n",
    "\n",
    "\n",
    "def banditSim(nBandits, bandits, nsteps):\n",
    "    #Gets a list of bandit objects to simulate them for given number of steps\n",
    "    avgRewards = np.zeros(nsteps, dtype=float)\n",
    "    for i in range(0, nBandits):\n",
    "        for t in range(0, nsteps):\n",
    "            At = bandits[i].getAction()\n",
    "            Rt = bandits[i].takeAction(At)\n",
    "            avgRewards[t] += Rt\n",
    "    avgRewards /= nBandits\n",
    "    return avgRewards"
   ]
  },
  {
   "cell_type": "code",
   "execution_count": 44,
   "metadata": {},
   "outputs": [
    {
     "data": {
      "image/png": "[encoded data removed]",
      "text/plain": [
       "<matplotlib.figure.Figure at 0x111d90518>"
      ]
     },
     "metadata": {},
     "output_type": "display_data"
    }
   ],
   "source": [
    "nBandits = 2000\n",
    "nSteps = 1000\n",
    "epsilons = [0.1]\n",
    "n = 10\n",
    "\n",
    "avgRewards = []\n",
    "\n",
    "for eps in epsilons:\n",
    "    bandits = [Bandit(n=n, eps = eps, isTemp=True) for i in range(nBandits)]\n",
    "    avgRewards = banditSim(nBandits, bandits, nSteps)\n",
    "    plt.plot(avgRewards)\n",
    "for i in range(0, len(epsilons)):\n",
    "    plt.plot(avgRewards[i], label = 'eps = '+str(epsilons[i]))\n",
    "plt.legend()\n",
    "plt.show()"
   ]
  },
  {
   "cell_type": "code",
   "execution_count": null,
   "metadata": {
    "collapsed": true
   },
   "outputs": [],
   "source": []
  }
 ],
 "metadata": {
  "kernelspec": {
   "display_name": "Python [default]",
   "language": "python",
   "name": "python3"
  },
  "language_info": {
   "codemirror_mode": {
    "name": "ipython",
    "version": 3
   },
   "file_extension": ".py",
   "mimetype": "text/x-python",
   "name": "python",
   "nbconvert_exporter": "python",
   "pygments_lexer": "ipython3",
   "version": "3.6.1"
  }
 },
 "nbformat": 4,
 "nbformat_minor": 2
}
