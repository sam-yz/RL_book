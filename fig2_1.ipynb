{
 "cells": [
  {
   "cell_type": "code",
   "execution_count": 19,
   "metadata": {},
   "outputs": [
    {
     "data": {
      "image/png": "[encoded data removed]",
      "text/plain": [
       "<matplotlib.figure.Figure at 0x10d865f28>"
      ]
     },
     "metadata": {},
     "output_type": "display_data"
    }
   ],
   "source": [
    "import math\n",
    "import numpy as np\n",
    "import matplotlib.pyplot as plt\n",
    "import random\n",
    "\n",
    "\n",
    "class Bandit:\n",
    "    \n",
    "    def __init__(self, n=10, eps=.1):\n",
    "        self.n = n\n",
    "        self.time = 0\n",
    "        self.eps = eps\n",
    "        \n",
    "        self.qTrue = []\n",
    "        self.qEst = np.zeros(self.n)\n",
    "        \n",
    "        self.moveCount = []\n",
    "        \n",
    "        for i in range(0, n):\n",
    "            self.qTrue.append(np.random.randn())\n",
    "            self.qEst[i] = 0.\n",
    "            self.moveCount.append(0)\n",
    "        \n",
    "\n",
    "        \n",
    "    def getAction(self):\n",
    "        prob = np.random.uniform(high=1, low=0, size=1)\n",
    "        if prob > self.eps:\n",
    "            return np.argmax(self.qEst)\n",
    "        indices = np.arange(self.n)\n",
    "        np.random.shuffle(indices)\n",
    "        return indices[0]\n",
    "        return random.randint(0, self.n-1)\n",
    "#--------------------------------------------------------\n",
    "#         indices = np.arange(self.n)\n",
    "#         if self.eps > 0:\n",
    "#             if np.random.binomial(1, self.eps) == 1:\n",
    "#                 np.random.shuffle(indices)\n",
    "#                 return indices[0]\n",
    "#         return np.argmax(self.qEst)\n",
    "\n",
    "\n",
    "    \n",
    "    \n",
    "    def takeAction(self, At):\n",
    "        Rt = self.qTrue[At] + np.random.randn()\n",
    "#         self.rewards[self.time] += Rt\n",
    "        self.time += 1\n",
    "        self.moveCount[At] += 1\n",
    "#         self.qEst[At] += 1.0 / self.moveCount[At] * (Rt - self.qEst[At])\n",
    "#         self.qEst[At] += (Rt - self.qEst[At])/self.moveCount[At]\n",
    "        self.qEst[At] = self.qEst[At]*(self.moveCount[At]-1)/(self.moveCount[At]) + Rt/self.moveCount[At]\n",
    "        return Rt\n",
    "        \n",
    "        \n",
    "def banditSim(nBandits, bandits, nsteps):\n",
    "    #Gets a list of bandit objects to simulate them for given number of steps\n",
    "    avgRewards = np.zeros(nsteps, dtype=float)\n",
    "    for i in range(0, nBandits):\n",
    "        for t in range(0, nsteps):\n",
    "            At = bandits[i].getAction()\n",
    "            Rt = bandits[i].takeAction(At)\n",
    "            avgRewards[t] += Rt\n",
    "    avgRewards /= nBandits\n",
    "    return avgRewards\n",
    "\n",
    "\n",
    "nBandits = 2000\n",
    "nSteps = 1000\n",
    "eps = 0.1\n",
    "n = 10\n",
    "bandits = [Bandit(n=n, eps = eps) for i in range(nBandits)]\n",
    "avgRewards = banditSim(nBandits, bandits, nSteps)\n",
    "\n",
    "import matplotlib.pyplot as plt\n",
    "plt.plot(avgRewards)\n",
    "plt.show()\n"
   ]
  },
  {
   "cell_type": "code",
   "execution_count": 3,
   "metadata": {},
   "outputs": [
    {
     "data": {
      "text/plain": [
       "2000"
      ]
     },
     "execution_count": 3,
     "metadata": {},
     "output_type": "execute_result"
    }
   ],
   "source": [
    "len(bandits)"
   ]
  },
  {
   "cell_type": "code",
   "execution_count": 28,
   "metadata": {},
   "outputs": [
    {
     "data": {
      "image/png": "[encoded data removed]",
      "text/plain": [
       "<matplotlib.figure.Figure at 0x116237ef0>"
      ]
     },
     "metadata": {},
     "output_type": "display_data"
    },
    {
     "data": {
      "image/png": "[encoded data removed]",
      "text/plain": [
       "<matplotlib.figure.Figure at 0x115e629e8>"
      ]
     },
     "metadata": {},
     "output_type": "display_data"
    }
   ],
   "source": [
    "d1 = np.random.normal(5, 1, 1000)\n",
    "d2 = 5 + np.random.normal(0, 1, 1000)\n",
    "\n",
    "plt.hist(d1)\n",
    "plt.show()\n",
    "plt.hist(d2)\n",
    "plt.show()"
   ]
  },
  {
   "cell_type": "code",
   "execution_count": 42,
   "metadata": {},
   "outputs": [
    {
     "data": {
      "text/plain": [
       "1.2000000000000002"
      ]
     },
     "execution_count": 42,
     "metadata": {},
     "output_type": "execute_result"
    }
   ],
   "source": [
    "1 / 5 * 6"
   ]
  },
  {
   "cell_type": "code",
   "execution_count": null,
   "metadata": {
    "collapsed": true
   },
   "outputs": [],
   "source": []
  }
 ],
 "metadata": {
  "kernelspec": {
   "display_name": "Python [default]",
   "language": "python",
   "name": "python3"
  },
  "language_info": {
   "codemirror_mode": {
    "name": "ipython",
    "version": 3
   },
   "file_extension": ".py",
   "mimetype": "text/x-python",
   "name": "python",
   "nbconvert_exporter": "python",
   "pygments_lexer": "ipython3",
   "version": "3.6.1"
  }
 },
 "nbformat": 4,
 "nbformat_minor": 2
}
